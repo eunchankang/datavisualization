{
 "cells": [
  {
   "cell_type": "code",
   "execution_count": 1,
   "metadata": {},
   "outputs": [],
   "source": [
    "import pandas as pd\n",
    "import numpy as np\n",
    "import matplotlib.pyplot as ptl\n",
    "import folium\n",
    "import webbrowser\n",
    "import pickle as pk\n",
    "import json"
   ]
  },
  {
   "cell_type": "code",
   "execution_count": null,
   "metadata": {},
   "outputs": [],
   "source": [
    "\n"
   ]
  },
  {
   "cell_type": "code",
   "execution_count": 2,
   "metadata": {},
   "outputs": [],
   "source": [
    "with open('t.pkl',\"rb\") as f:\n",
    "    t= pk.load(f)\n",
    "f.close()\n",
    "\n",
    "colordict = {'Assassination':'red','Bombing/Explosion':'purple', 'Hostage Taking (Kidnapping)':'blue',\\\n",
    "            'Hostage Taking (Barricade Incident)':'blue','Facility/Infrastructure Attack':'yellow','Hijacking':'green',\\\n",
    "            'Armed Assault':'orange'}\n",
    "\n",
    "df= pd.DataFrame(t)"
   ]
  },
  {
   "cell_type": "code",
   "execution_count": null,
   "metadata": {},
   "outputs": [],
   "source": []
  },
  {
   "cell_type": "code",
   "execution_count": 35,
   "metadata": {},
   "outputs": [],
   "source": [
    "df1=df.nlargest(2500, columns=['casualities'])"
   ]
  },
  {
   "cell_type": "code",
   "execution_count": 36,
   "metadata": {},
   "outputs": [],
   "source": [
    "df1 = df1[['latitude','longitude','year','attack','casualities','kill','city']]\n",
    "#0 값을 nan으로 변환\n",
    "df1['attack']=df1['attack'].apply(lambda x: np.nan if x=='Unknown' else x)\n",
    "df1['attack']=df1['attack'].apply(lambda x: np.nan if x=='Unarmed Assault' else x)\n",
    "\n",
    "#nan 제외\n",
    "df1=df1.dropna()"
   ]
  },
  {
   "cell_type": "code",
   "execution_count": null,
   "metadata": {},
   "outputs": [],
   "source": []
  },
  {
   "cell_type": "code",
   "execution_count": 37,
   "metadata": {},
   "outputs": [],
   "source": [
    "latitude = -14.6048\n",
    "longitude = -59.0625\n",
    "map1 = folium.Map(location=[latitude, longitude], zoom_start=2)\n",
    "\n"
   ]
  },
  {
   "cell_type": "code",
   "execution_count": 38,
   "metadata": {},
   "outputs": [],
   "source": [
    "for lat, lon, attacktype,death,year, casualties, city in zip(df1['latitude'], df1['longitude'], df1['attack'],df1['kill'] ,df1['year'], df1['casualities'], df1['city']):\n",
    "    folium.CircleMarker(\n",
    "        [lat, lon],\n",
    "        radius=0.01*casualties,\n",
    "        popup = ( city.capitalize() + '<br>'+\n",
    "                  attacktype + '<br>'+\n",
    "                  str(year) + '<br>'+\n",
    "                str('Death')  + str(death)),\n",
    "        color='b',\n",
    "        key_on = attacktype,\n",
    "        #threshold_scale=[0,1,2,3],\n",
    "        \n",
    "        fill_color=colordict[attacktype],\n",
    "        fill=True,\n",
    "        fill_opacity=0.5\n",
    "        ).add_to(map1)\n",
    "\n",
    "map1.save('attack2500.html')"
   ]
  },
  {
   "cell_type": "code",
   "execution_count": null,
   "metadata": {},
   "outputs": [],
   "source": []
  }
 ],
 "metadata": {
  "kernelspec": {
   "display_name": "Python 3",
   "language": "python",
   "name": "python3"
  },
  "language_info": {
   "codemirror_mode": {
    "name": "ipython",
    "version": 3
   },
   "file_extension": ".py",
   "mimetype": "text/x-python",
   "name": "python",
   "nbconvert_exporter": "python",
   "pygments_lexer": "ipython3",
   "version": "3.7.3"
  }
 },
 "nbformat": 4,
 "nbformat_minor": 2
}
